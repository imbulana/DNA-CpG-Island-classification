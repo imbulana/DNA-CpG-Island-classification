{
 "cells": [
  {
   "cell_type": "code",
   "execution_count": 1,
   "metadata": {},
   "outputs": [],
   "source": [
    "import numpy as np\n",
    "from sklearn.model_selection import StratifiedKFold\n",
    "from markov import *\n",
    "import utils"
   ]
  },
  {
   "cell_type": "code",
   "execution_count": 2,
   "metadata": {},
   "outputs": [],
   "source": [
    "X0,X1=utils.cgi_partition('AL031718.fas', [(4620, 8266), (16033, 18297)])\n",
    "\n",
    "X=np.array(X0+X1)\n",
    "Y=np.array([0]*len(X0)+[1]*len(X1)) # labels (0=non CpG, 1=CpG)"
   ]
  },
  {
   "cell_type": "code",
   "execution_count": 16,
   "metadata": {},
   "outputs": [
    {
     "name": "stdout",
     "output_type": "stream",
     "text": [
      "Error rate = 0.11043956043956045\n",
      "\n"
     ]
    }
   ],
   "source": [
    "# states=['A','C','G','T']\n",
    "transitions=[['AA','AC','AG','AT'],\n",
    "             ['CA','CC','CG','CT'],\n",
    "             ['GA','GC','GG','GT'],\n",
    "             ['TA','TC','TG','TT'],]\n",
    "\n",
    "M=Markov()\n",
    "\n",
    "# k-fold cross validation\n",
    "k=10\n",
    "cerror=crecall=cprecision=0\n",
    "skf=StratifiedKFold(n_splits=k, shuffle=True)\n",
    "for train, test in skf.split(X, Y):\n",
    "  X_train, X_test=X[train], X[test]\n",
    "  Y_train, Y_test=Y[train], Y[test]\n",
    "\n",
    "  X0,X1=X_train[Y_train==0],X_train[Y_train==1]\n",
    "  M.train(X0, X1, transitions)\n",
    "  Y_pred=M.predict_all(X_test)\n",
    "\n",
    "  tp=np.sum((Y_pred==1)&(Y_test==1))\n",
    "  tn=np.sum((Y_pred==0)&(Y_test==0))\n",
    "  fp=np.sum((Y_pred==1)&(Y_test==0))\n",
    "  fn=np.sum((Y_pred==0)&(Y_test==1))\n",
    "\n",
    "  cerror+=(fp+fn)/len(Y_test)\n",
    "  cprecision=tp/(tp+fp) if (tp+fp)>0 else 0\n",
    "  crecall=tp/(tp+fn) if (tp+fn)>0 else 0\n",
    "\n",
    "cerror/=k\n",
    "cprecision/=k\n",
    "crecall/=k\n",
    "f1=(2*cprecision*crecall)/(cprecision+crecall) if (cprecision+crecall)>0 else 0\n",
    "\n",
    "print(f'Error rate = {cerror}\\n')\n",
    "# print(f'Precision = {cprecision}\\nRecall = {crecall}\\nF1 = {f1}')"
   ]
  }
 ],
 "metadata": {
  "kernelspec": {
   "display_name": "Python 3",
   "language": "python",
   "name": "python3"
  },
  "language_info": {
   "codemirror_mode": {
    "name": "ipython",
    "version": 3
   },
   "file_extension": ".py",
   "mimetype": "text/x-python",
   "name": "python",
   "nbconvert_exporter": "python",
   "pygments_lexer": "ipython3",
   "version": "3.10.12"
  }
 },
 "nbformat": 4,
 "nbformat_minor": 2
}
